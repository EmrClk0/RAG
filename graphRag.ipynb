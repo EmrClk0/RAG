{
 "cells": [
  {
   "cell_type": "markdown",
   "metadata": {},
   "source": [
    "LangChain, Ollama & Neo4j"
   ]
  },
  {
   "cell_type": "code",
   "execution_count": 1,
   "metadata": {},
   "outputs": [],
   "source": [
    "#%pip install langchain-ollama langchain-experimental neo4j tiktoken yfiles_jupyter_graphs python-dotenv json-repair langchain_core"
   ]
  },
  {
   "cell_type": "code",
   "execution_count": 29,
   "metadata": {},
   "outputs": [],
   "source": [
    "from langchain_core.prompts import ChatPromptTemplate\n",
    "from pydantic import BaseModel, Field\n",
    "from langchain.text_splitter import RecursiveCharacterTextSplitter\n",
    "from langchain_community.document_loaders import TextLoader\n",
    "from langchain_core.output_parsers import StrOutputParser\n",
    "\n",
    "#from langchain_community.chat_models import ChatOllama\n",
    "from langchain_ollama import ChatOllama\n",
    "from langchain_experimental.llms.ollama_functions import OllamaFunctions\n",
    "from langchain_ollama import OllamaEmbeddings\n",
    "\n",
    "\n",
    "from neo4j import GraphDatabase\n",
    "from neo4j import  Driver\n",
    "#from langchain_community.graphs import Neo4jGraph\n",
    "from langchain_neo4j import Neo4jGraph\n",
    "from langchain_community.vectorstores import Neo4jVector\n",
    "\n",
    "\n",
    "\n",
    "import os\n",
    "from dotenv import load_dotenv\n",
    "load_dotenv()\n",
    "\n",
    "#graphı jup te gösterebilmek için\n",
    "from yfiles_jupyter_graphs import GraphWidget\n",
    "\n",
    "#RunnablePassthrough, LangChain işlem hatlarında bir veri üzerinde herhangi bir değişiklik yapmadan \n",
    "# onu olduğu gibi iletmek için kullanılır. \n",
    "# Veri akışı içinde bir adımı atlamak veya test etmek istediğinizde faydalıdır.\n",
    "from langchain_core.runnables import  RunnablePassthrough\n",
    "\n",
    "\n",
    "#LLMGraphTransformer, büyük dil modelleriyle (LLM) çalışırken grafik tabanlı bir dönüşüm gerçekleştirmek için kullanılır. \n",
    "# Örneğin, bir bilgi grafiğini analiz etmek, dönüştürmek veya zenginleştirmek için kullanılabilir.\n",
    "from langchain_experimental.graph_transformers import LLMGraphTransformer\n",
    "\n",
    "#remove_lucene_chars, Neo4j veritabanıyla çalışırken, sorgulamalarda Lucene özel karakterlerini temizlemek için kullanılır.\n",
    "#  Lucene, Neo4j'nin sorgulama motorlarından biridir ve bazı karakterlerin doğru çalışabilmesi için kaçış yapılması veya kaldırılması gerekebilir.\n",
    "from langchain_community.vectorstores.neo4j_vector import remove_lucene_chars\n",
    "\n",
    "\n",
    "from pydantic import BaseModel, Field\n",
    "\n"
   ]
  },
  {
   "cell_type": "code",
   "execution_count": 2,
   "metadata": {},
   "outputs": [
    {
     "data": {
      "text/plain": [
       "'123456789'"
      ]
     },
     "execution_count": 2,
     "metadata": {},
     "output_type": "execute_result"
    }
   ],
   "source": [
    "os.getenv(\"NEO4J_PASSWORD\")"
   ]
  },
  {
   "cell_type": "code",
   "execution_count": 4,
   "metadata": {},
   "outputs": [],
   "source": [
    "graph = Neo4jGraph()"
   ]
  },
  {
   "cell_type": "code",
   "execution_count": 5,
   "metadata": {},
   "outputs": [],
   "source": [
    "graph._check_driver_state()"
   ]
  },
  {
   "cell_type": "code",
   "execution_count": 6,
   "metadata": {},
   "outputs": [
    {
     "data": {
      "text/plain": [
       "[Document(metadata={'source': 'Amico’s Family.txt'}, page_content='1. The Story of Amico’s Family: A Legacy of Love and Tradition\\nIn the idyllic village of Santa Caterina, amidst the rolling hills and sun-kissed landscapes of Sicily, lies the genesis of the Caruso family, a lineage intertwined with the island\\'s rich culinary tapestry. The Carusos were not mere inhabitants of the land; they were the keepers of a culinary heritage that spanned generations. Each family member contributed their unique flair, crafting a narrative of flavors that reflected their diverse experiences and deep-seated love for food.\\n\\nGiovanni Caruso and Maria: The Founding Generation\\n\\nGiovanni Caruso, Amico\\'s great-grandfather, was a man of the earth. His calloused hands spoke of years spent cultivating the fertile soils of Santa Caterina, producing olives and grapes that were the pride of the region. Giovanni was not just a farmer but an alchemist of flavors, blending the fruits of his labor into exquisite oils and wines. His wife, Maria, was the soul of the kitchen. A masterful cook, Maria\\'s dishes were a symphony of hearty stews and delicate pastries, passed down from her ancestors and refined with her own touch. The couple\\'s home was a haven of culinary experimentation and love, where their children were introduced to the secrets of the Sicilian kitchen.\\n\\nAntonio Caruso: The Storyteller and Innovator\\n\\nAntonio, Giovanni and Maria\\'s eldest son, inherited his parents\\' passion but added his flair for innovation. A charismatic storyteller, Antonio was known for captivating his family and the village with tales of their ancestry and the island\\'s history. His culinary prowess was unmatched, blending traditional Sicilian flavors with inventive techniques he picked up from his travels across Italy. Antonio became the village\\'s go-to chef for weddings and grand feasts, creating dishes that were both nostalgic and avant-garde. His most famous creation, a fusion of Sicilian and Tuscan flavors, laid the groundwork for what would later become Amico\\'s signature style.\\n\\nPietro and Sofia: The Guardians of Tradition\\n\\nPietro, Antonio\\'s eldest son, was a skilled fisherman who loved the sea as much as the kitchen. His daily catches were the freshest seafood in the village, a staple in the family trattoria he ran with his wife, Sofia. Sofia was a baker par excellence, known for her incredible pastries and bread. Together, they transformed the trattoria into a local institution, famous for its warm hospitality and authentic flavors. The trattoria was a microcosm of Sicilian culture, where stories were shared over plates of fresh pasta and glasses of homemade wine. Pietro and Sofia instilled in their children, including Amico, the values of hard work, respect for tradition, and the joy of feeding others.\\n\\nNonna Lucia: The Matriarch and Mentor\\n\\nLucia, Antonio\\'s sister and Amico\\'s grandmother, was the matriarch of the Caruso family. A culinary sage, Nonna Lucia was the custodian of the family\\'s recipes, a role she took very seriously. Her kitchen was a sacred space, where she taught her grandchildren the art of Sicilian cooking. Under her watchful eye, Amico learned the delicate balance of flavors in a Caponata and the intricate process of making fresh pasta. Nonna Lucia\\'s influence extended beyond the kitchen; she was a pillar of strength and wisdom, guiding her family with love and a firm hand. Her teachings went beyond recipes, imparting lessons about life, love, and the importance of community.\\n\\n2. Other Restaurants Owned by Amico\\'s Family: A Culinary Empire\\nAs the Caruso family grew, so did their culinary empire. Each member, having honed their skills under the tutelage of another, ventured into different regions, opening restaurants that showcased their unique interpretations of Italian cuisine. These establishments, while diverse in their offerings, were united by a common thread: a deep respect for tradition and a commitment to excellence.\\n\\n1. La Dolce Vita - Rome: Owned by Antonio Caruso\\n\\nAfter years of perfecting his craft in Santa Caterina, Antonio ventured to Rome, the Eternal City, where he opened \"La Dolce Vita.\" Situated near the iconic Trevi Fountain, this restaurant was Antonio\\'s ode to Rome\\'s vibrant culture. Antonio brought his innovative spirit to the city\\'s classic dishes, offering a menu that included Cacio e Pepe and Carbonara, alongside his signature Truffle Risotto with Pecorino Romano. The restaurant\\'s elegant ambiance, featuring live classical music, made it a popular destination. Antonio\\'s ability to blend tradition with modernity, a skill he had honed from his father Giovanni, made \"La Dolce Vita\" a culinary landmark in Rome.\\n\\n2. Il Mare Nostrum - Amalfi Coast: Owned by Pietro Caruso\\n\\nPietro, having inherited his father\\'s love for the sea, opened \"Il Mare Nostrum\" on the breathtaking Amalfi Coast. This restaurant was a celebration of Italy\\'s coastal cuisine, with a focus on the freshest seafood. Pietro\\'s expertise in fishing ensured that the daily catch was of the highest quality, while his wife Sofia\\'s baking skills added a unique twist to the menu. Signature dishes like Grilled Octopus with Lemon and Herbs and Spaghetti alle Vongole became instant classics. The stunning views of the Mediterranean, coupled with the restaurant\\'s serene ambiance, made \"Il Mare Nostrum\" a must-visit for anyone exploring the Amalfi Coast.\\n\\n3. La Terra di Siena - Tuscany: Owned by Sofia Caruso\\n\\nSofia, the family\\'s talented baker, found her calling amidst the rolling hills of Tuscany. She opened \"La Terra di Siena,\" a rustic retreat that emphasized a farm-to-table dining experience. The restaurant, housed in a beautifully restored farmhouse, showcased the best of Tuscan cuisine, from Bistecca alla Fiorentina to Pappardelle al Cinghiale. Sofia\\'s desserts, particularly her Tiramisu and Panna Cotta, were legendary, attracting visitors from far and wide. The restaurant\\'s picturesque setting, surrounded by vineyards and olive groves, provided a perfect backdrop for wine tastings and intimate dinners. Sofia\\'s attention to detail and her commitment to using locally sourced ingredients made \"La Terra di Siena\" a favorite among food enthusiasts.\\n\\n4. Amico\\'s - New York City: Owned by Amico Caruso\\n\\nAmico, inspired by his family\\'s culinary legacy and his travels, opened \"Amico\\'s\" in the bustling metropolis of New York City. The restaurant was a modern take on Italian cuisine, blending traditional recipes with contemporary trends. The menu featured a range of dishes, from Porcini Mushroom Risotto to Burrata with Heirloom Tomatoes. Amico\\'s passion for Sicilian cuisine was evident in every dish, but he also incorporated influences from his experiences across Italy and beyond. \"Amico\\'s\" quickly became a culinary hotspot, attracting a diverse clientele, including celebrities and food critics. The restaurant\\'s chic interior and Amico\\'s charismatic presence made it a standout in the competitive New York dining scene.\\n\\n5. Bella Vita - Los Angeles: Owned by Lucia Caruso\\n\\nLucia, named after her grandmother and inheriting her culinary talent, brought a piece of Sicily to sunny Los Angeles with \"Bella Vita.\" Lucia was a creative force, combining her grandmother\\'s traditional recipes with her flair for innovation. The restaurant offered a menu that catered to LA\\'s diverse and health-conscious population, featuring dishes like gluten-free pasta and organic salads, alongside indulgent classics like Lasagna and Cannoli. \"Bella Vita\\'s\" rooftop bar, offering panoramic views of the city, became a popular spot for enjoying Italian-inspired cocktails and small plates. Lucia\\'s commitment to sustainability and her support for local artists made \"Bella Vita\" a hub for food, art, and culture.\\n\\n3. Amico’s Community Involvement and Social Causes\\nThe Caruso family\\'s influence extended beyond their restaurants, as they collectively believed in the power of food to make a difference. Their commitment to social causes was a cornerstone of their philosophy, reflected in various initiatives aimed at giving back to the community and promoting cultural exchange.\\n\\n1. Culinary Workshops and Mentorship Programs\\n\\nEach member of the Caruso family played a role in nurturing the next generation of chefs. Antonio hosted workshops in Rome, sharing his innovative techniques, while Pietro and Sofia offered classes in seafood preparation and baking, respectively. Lucia, in Los Angeles, focused on sustainable cooking practices, teaching aspiring chefs the importance of using organic and local ingredients. These workshops provided invaluable hands-on experience, and the family\\'s mentorship programs offered guidance and support to young chefs from diverse backgrounds.\\n\\n2. Farm-to-Table Initiatives\\n\\nThe Carusos were strong advocates for sustainable and ethical food practices. Amico, in particular, spearheaded the \"Farm-to-Table\" initiative, collaborating with local farmers and producers across all their restaurants. This initiative ensured that their establishments used only the freshest, locally sourced ingredients, promoting environmental sustainability and supporting the local economy. The family also worked together to raise awareness about the benefits of consuming seasonal and organic produce.\\n\\n3. Food for All: Community Kitchens and Food Drives\\n\\nIn their efforts to address food insecurity, the Carusos launched the \"Food for All\" initiative, setting up community kitchens in each city where they had restaurants. These kitchens provided free meals to the homeless and low-income families, ensuring that everyone had access to nutritious food. Additionally, they organized food drives, collecting donations from patrons and local businesses. The initiative was a family effort, with each member contributing their skills and resources to help those in need.\\n\\n4. Cultural and Culinary Festivals\\n\\nThe Carusos believed in celebrating diversity through food and culture. They organized annual cultural and culinary festivals at their respective restaurants, showcasing traditional Sicilian dishes alongside other international cuisines. These festivals featured live performances, cooking demonstrations, and artisan markets, creating a vibrant and inclusive atmosphere. The events were not only a celebration of food but also a platform for cultural exchange, bringing people from different backgrounds together.\\n\\n5. Support for Local Artists and Artisans\\n\\nArt and food were intertwined in the Caruso family\\'s philosophy. Each restaurant featured works by local artists, from paintings and sculptures to handcrafted ceramics. Amico, in particular, was a strong advocate for the arts, hosting exhibitions and events that promoted local talent. The family\\'s support extended beyond the visual arts, as they also collaborated with local musicians and performers, enriching the cultural experience at their establishments.\\n\\nConclusion\\nThe Caruso family\\'s story is a rich tapestry of love, tradition, and culinary excellence. From the picturesque village of Santa Caterina to the bustling streets of New York City, they have left an indelible mark on the culinary world. Each family member, with their unique background and talents, has contributed to the family\\'s legacy, creating a culinary empire that spans continents. Their commitment to social causes and community involvement reflects their belief in the power of food to connect people and make a positive impact. The Caruso family\\'s journey is a testament to the enduring power of tradition, innovation, and the joy of sharing good food with others.')]"
      ]
     },
     "execution_count": 6,
     "metadata": {},
     "output_type": "execute_result"
    }
   ],
   "source": [
    "#text loading\n",
    "loader = TextLoader(file_path=\"Amico’s Family.txt\", encoding=\"utf-8\")\n",
    "docs = loader.load()\n",
    "docs"
   ]
  },
  {
   "cell_type": "code",
   "execution_count": 7,
   "metadata": {},
   "outputs": [
    {
     "name": "stdout",
     "output_type": "stream",
     "text": [
      "73\n"
     ]
    },
    {
     "data": {
      "text/plain": [
       "Document(metadata={'source': 'Amico’s Family.txt'}, page_content='1. The Story of Amico’s Family: A Legacy of Love and Tradition')"
      ]
     },
     "execution_count": 7,
     "metadata": {},
     "output_type": "execute_result"
    }
   ],
   "source": [
    "#chunking\n",
    "textSplitter = RecursiveCharacterTextSplitter(\n",
    "    chunk_size= 250,\n",
    "    chunk_overlap= 25,\n",
    ")\n",
    "documents = textSplitter.split_documents(documents=docs) #split_text(docs[0].page_content)\n",
    "print(len(documents))\n",
    "documents[0]"
   ]
  },
  {
   "cell_type": "code",
   "execution_count": 8,
   "metadata": {},
   "outputs": [],
   "source": [
    "#llm = ChatOllama(model=\"llama3.1\", temperature=0)\n",
    "#llm.invoke(\"9+8\").content"
   ]
  },
  {
   "cell_type": "code",
   "execution_count": 8,
   "metadata": {},
   "outputs": [],
   "source": [
    "from langchain_openai import ChatOpenAI\n",
    "llm = ChatOpenAI(model_name=\"gpt-4o-mini\")"
   ]
  },
  {
   "cell_type": "code",
   "execution_count": 9,
   "metadata": {},
   "outputs": [
    {
     "data": {
      "text/plain": [
       "'9 + 8 = 17.'"
      ]
     },
     "execution_count": 9,
     "metadata": {},
     "output_type": "execute_result"
    }
   ],
   "source": [
    "llm.invoke(\"9+8\").content"
   ]
  },
  {
   "cell_type": "code",
   "execution_count": 10,
   "metadata": {},
   "outputs": [],
   "source": [
    "llmTransformer = LLMGraphTransformer(llm=llm)"
   ]
  },
  {
   "cell_type": "code",
   "execution_count": 11,
   "metadata": {},
   "outputs": [],
   "source": [
    "#Convert a sequence of documents into graph documents.\n",
    "graphDocs = llmTransformer.convert_to_graph_documents(documents=documents)"
   ]
  },
  {
   "cell_type": "code",
   "execution_count": null,
   "metadata": {},
   "outputs": [],
   "source": [
    "print(len(graphDocs))\n",
    "graphDocs[0]"
   ]
  },
  {
   "cell_type": "code",
   "execution_count": 12,
   "metadata": {},
   "outputs": [
    {
     "data": {
      "text/plain": [
       "[Node(id='Giovanni Caruso', type='Person', properties={}),\n",
       " Node(id='Amico', type='Person', properties={}),\n",
       " Node(id='Santa Caterina', type='Location', properties={})]"
      ]
     },
     "execution_count": 12,
     "metadata": {},
     "output_type": "execute_result"
    }
   ],
   "source": [
    "\n",
    "graphDocs[5].nodes"
   ]
  },
  {
   "cell_type": "code",
   "execution_count": 13,
   "metadata": {},
   "outputs": [
    {
     "data": {
      "text/plain": [
       "[Relationship(source=Node(id='Giovanni Caruso', type='Person', properties={}), target=Node(id='Amico', type='Person', properties={}), type='GREAT_GRANDFATHER', properties={}),\n",
       " Relationship(source=Node(id='Giovanni Caruso', type='Person', properties={}), target=Node(id='Santa Caterina', type='Location', properties={}), type='CULTIVATED_IN', properties={})]"
      ]
     },
     "execution_count": 13,
     "metadata": {},
     "output_type": "execute_result"
    }
   ],
   "source": [
    "graphDocs[5].relationships"
   ]
  },
  {
   "cell_type": "code",
   "execution_count": 14,
   "metadata": {},
   "outputs": [],
   "source": [
    "#graph veritabanına veri ekleme\n",
    "graph.add_graph_documents(\n",
    "    graphDocs,\n",
    "    baseEntityLabel=True,\n",
    "    include_source=True\n",
    ")"
   ]
  },
  {
   "cell_type": "code",
   "execution_count": 16,
   "metadata": {},
   "outputs": [
    {
     "data": {
      "application/vnd.jupyter.widget-view+json": {
       "model_id": "b16b44f1b2d841ef93ef7eae25fd750b",
       "version_major": 2,
       "version_minor": 0
      },
      "text/plain": [
       "GraphWidget(layout=Layout(height='800px', width='100%'))"
      ]
     },
     "metadata": {},
     "output_type": "display_data"
    }
   ],
   "source": [
    "def showGraph():\n",
    "    driver = GraphDatabase.driver(\n",
    "        uri = os.getenv(\"NEO4J_URI\"),\n",
    "        auth=(os.getenv(\"NEO4J_USERNAME\"),os.getenv(\"NEO4J_PASSWORD\"))\n",
    "        )\n",
    "    \n",
    "    session = driver.session()\n",
    "    widget = GraphWidget(graph=session.run('MATCH (s)-[r]->(t) WHERE NOT type(r) = \"MENTIONS\" RETURN s, r, t;').graph())\n",
    "    #BU SORGU TÜM DÜĞÜMLERİ GETİRİR ANCAK ARADAKI BAĞLANTI MENTIONS DEĞİLSE: MENTİONS NODELARIN HANGİ DÖKÜMANDA BULUNDUGUNU İFADE EDER.\n",
    "    widget.node_label_mapping = \"id\"\n",
    "    return widget\n",
    "\n",
    "showGraph()"
   ]
  },
  {
   "cell_type": "raw",
   "metadata": {
    "vscode": {
     "languageId": "raw"
    }
   },
   "source": [
    "Neo4jVector.from_existing_graph: Neo4j'deki düğümler üzerinde vektör arama yapılabilmesi için embedding tabanlı bir sistem kurar.\n",
    "as_retriever: Arama sistemini bir bilgi erişim aracı olarak kullanıma hazır hale getirir.\n",
    "Amaç: Veritabanında metin veya embedding tabanlı benzerlik aramaları yapmak ve alakalı belgeleri/düğümleri bulmaktır."
   ]
  },
  {
   "cell_type": "code",
   "execution_count": 18,
   "metadata": {},
   "outputs": [],
   "source": [
    "#VECTOR STORE YARATMA\n",
    "from langchain_openai import OpenAIEmbeddings\n",
    "embedding = OpenAIEmbeddings(model=\"text-embedding-ada-002\")"
   ]
  },
  {
   "cell_type": "code",
   "execution_count": 36,
   "metadata": {},
   "outputs": [],
   "source": [
    "#Neo4j veritabanındaki düğümler üzerinde vektör tabanlı arama yapılabilmesini sağlayan bir yapı oluşturuyor\n",
    "vector_index = Neo4jVector.from_existing_graph(\n",
    "    embedding=embedding,\n",
    "    search_type=\"hybrid\",\n",
    "    node_label=\"Document\",\n",
    "    text_node_properties=[\"text\"],\n",
    "    embedding_node_property=\"embedding\"\n",
    ")\n",
    "\n",
    "vectorRetriever = vector_index.as_retriever()"
   ]
  },
  {
   "cell_type": "code",
   "execution_count": 53,
   "metadata": {},
   "outputs": [
    {
     "name": "stderr",
     "output_type": "stream",
     "text": [
      "Received notification from DBMS server: {severity: WARNING} {code: Neo.ClientNotification.Statement.FeatureDeprecationWarning} {category: DEPRECATION} {title: This feature is deprecated and will be removed in future versions.} {description: CALL subquery without a variable scope clause is now deprecated. Use CALL () { ... }} {position: line: 1, column: 1, offset: 0} for query: \"CALL { CALL db.index.vector.queryNodes($index, $k, $embedding) YIELD node, score WITH collect({node:node, score:score}) AS nodes, max(score) AS max UNWIND nodes AS n RETURN n.node AS node, (n.score / max) AS score UNION CALL db.index.fulltext.queryNodes($keyword_index, $query, {limit: $k}) YIELD node, score WITH collect({node:node, score:score}) AS nodes, max(score) AS max UNWIND nodes AS n RETURN n.node AS node, (n.score / max) AS score } WITH node, max(score) AS score ORDER BY score DESC LIMIT $k RETURN reduce(str='', k IN ['text'] | str + '\\\\n' + k + ': ' + coalesce(node[k], '')) AS text, node {.*, `embedding`: Null, id: Null, `text`: Null} AS metadata, score\"\n"
     ]
    },
    {
     "data": {
      "text/plain": [
       "[Document(metadata={'source': 'Amico’s Family.txt'}, page_content=\"\\ntext: Lucia, Antonio's sister and Amico's grandmother, was the matriarch of the Caruso family. A culinary sage, Nonna Lucia was the custodian of the family's recipes, a role she took very seriously. Her kitchen was a sacred space, where she taught her\"),\n",
       " Document(metadata={'source': 'Amico’s Family.txt'}, page_content='\\ntext: Nonna Lucia: The Matriarch and Mentor'),\n",
       " Document(metadata={'source': 'Amico’s Family.txt'}, page_content=\"\\ntext: where she taught her grandchildren the art of Sicilian cooking. Under her watchful eye, Amico learned the delicate balance of flavors in a Caponata and the intricate process of making fresh pasta. Nonna Lucia's influence extended beyond the kitchen;\"),\n",
       " Document(metadata={'source': 'Amico’s Family.txt'}, page_content='\\ntext: Each member of the Caruso family played a role in nurturing the next generation of chefs. Antonio hosted workshops in Rome, sharing his innovative techniques, while Pietro and Sofia offered classes in seafood preparation and baking, respectively.')]"
      ]
     },
     "execution_count": 53,
     "metadata": {},
     "output_type": "execute_result"
    }
   ],
   "source": [
    "# Bir sorgu ile en alakalı belgeleri getir\n",
    "question = \"Who are Nonna Lucia and Giovanni Caruso?\"\n",
    "results = vectorRetriever.get_relevant_documents(question)\n",
    "results"
   ]
  },
  {
   "cell_type": "code",
   "execution_count": 65,
   "metadata": {},
   "outputs": [
    {
     "data": {
      "text/plain": [
       "\"\\ntext: Lucia, Antonio's sister and Amico's grandmother, was the matriarch of the Caruso family. A culinary sage, Nonna Lucia was the custodian of the family's recipes, a role she took very seriously. Her kitchen was a sacred space, where she taught her\""
      ]
     },
     "execution_count": 65,
     "metadata": {},
     "output_type": "execute_result"
    }
   ],
   "source": [
    "results[0].page_content"
   ]
  },
  {
   "cell_type": "code",
   "execution_count": 33,
   "metadata": {},
   "outputs": [],
   "source": [
    "class Entities(BaseModel):\n",
    "    names: list[str]=Field(...,\n",
    "                           description=\"All the person, organization or business entities that appear in the text\")\n",
    "    \n",
    "prompt = ChatPromptTemplate.from_messages([\n",
    "    (\"system\", \"You are extracting organization and person entities from the text.\"),\n",
    "    (\"human\", \"Use the given format to extract information from the following: Input: {question}\")\n",
    "])\n",
    "\n",
    "#Model wrapper that returns outputs formatted to match the given schema.\n",
    "'''\n",
    "The output schema. Can be passed in as:\n",
    "\n",
    "- an OpenAI function/tool schema,\n",
    "- a JSON Schema,\n",
    "- a TypedDict class (support added in 0.1.20),\n",
    "- or a Pydantic class.\n",
    "''' \n",
    "entityChain = prompt | llm.with_structured_output(Entities)"
   ]
  },
  {
   "cell_type": "code",
   "execution_count": 54,
   "metadata": {},
   "outputs": [
    {
     "data": {
      "text/plain": [
       "['Nonna Lucia', 'Giovanni Caruso']"
      ]
     },
     "execution_count": 54,
     "metadata": {},
     "output_type": "execute_result"
    }
   ],
   "source": [
    "#verdiğimiz şemayı döndürdü yani Entities\n",
    "entityChain.invoke({\"question\":\"Who are Nonna Lucia and Giovanni Caruso?\"}).names"
   ]
  },
  {
   "cell_type": "raw",
   "metadata": {
    "vscode": {
     "languageId": "raw"
    }
   },
   "source": [
    "#FULL TEXT INDEXLEME OLUŞTURMAK İÇİN CYPHER KODU\n",
    "CREATE FULLTEXT INDEX FTS_Entity_id \n",
    "FOR (n:__Entity__)\n",
    "ON EACH [n.id]\n",
    "OPTIONS {\n",
    "  indexConfig: {\n",
    "    `fulltext.analyzer`: \"standard-folding\",\n",
    "    `fulltext.eventually_consistent`: true\n",
    "  }\n",
    "}\n"
   ]
  },
  {
   "cell_type": "code",
   "execution_count": 55,
   "metadata": {},
   "outputs": [
    {
     "data": {
      "text/plain": [
       "'Nonna Lucia'"
      ]
     },
     "execution_count": 55,
     "metadata": {},
     "output_type": "execute_result"
    }
   ],
   "source": [
    "entity = entityChain.invoke({\"question\":question}).names[0]\n",
    "entity"
   ]
  },
  {
   "cell_type": "code",
   "execution_count": 48,
   "metadata": {},
   "outputs": [
    {
     "name": "stderr",
     "output_type": "stream",
     "text": [
      "Received notification from DBMS server: {severity: WARNING} {code: Neo.ClientNotification.Statement.FeatureDeprecationWarning} {category: DEPRECATION} {title: This feature is deprecated and will be removed in future versions.} {description: CALL subquery without a variable scope clause is now deprecated. Use CALL (node, node) { ... }} {position: line: 3, column: 13, offset: 111} for query: \"CALL db.index.fulltext.queryNodes('FTS_Entity_id', $query, {limit:2})\\n            YIELD node,score\\n            CALL {\\n              WITH node\\n              MATCH (node)-[r:!MENTIONS]->(neighbor)\\n              RETURN node.id + ' - ' + type(r) + ' -> ' + neighbor.id AS output\\n              UNION ALL\\n              WITH node\\n              MATCH (node)<-[r:!MENTIONS]-(neighbor)\\n              RETURN neighbor.id + ' - ' + type(r) + ' -> ' +  node.id AS output\\n            }\\n            RETURN output LIMIT 50\\n            \"\n"
     ]
    }
   ],
   "source": [
    "response = graph.query(\n",
    "            \"\"\"CALL db.index.fulltext.queryNodes('FTS_Entity_id', $query, {limit:2})\n",
    "            YIELD node,score\n",
    "            CALL {\n",
    "              WITH node\n",
    "              MATCH (node)-[r:!MENTIONS]->(neighbor)\n",
    "              RETURN node.id + ' - ' + type(r) + ' -> ' + neighbor.id AS output\n",
    "              UNION ALL\n",
    "              WITH node\n",
    "              MATCH (node)<-[r:!MENTIONS]-(neighbor)\n",
    "              RETURN neighbor.id + ' - ' + type(r) + ' -> ' +  node.id AS output\n",
    "            }\n",
    "            RETURN output LIMIT 50\n",
    "            \"\"\",\n",
    "            {\"query\": entity},\n",
    "        )"
   ]
  },
  {
   "cell_type": "code",
   "execution_count": 49,
   "metadata": {},
   "outputs": [
    {
     "data": {
      "text/plain": [
       "[{'output': 'Nonna Lucia - INFLUENCE -> Amico'},\n",
       " {'output': 'Nonna Lucia - TAUGHT -> Sicilian Cooking'},\n",
       " {'output': 'Lucia - SISTER -> Antonio'},\n",
       " {'output': 'Lucia - GRANDMOTHER -> Amico'},\n",
       " {'output': 'Lucia - MATRIARCH -> Caruso Family'},\n",
       " {'output': 'Lucia - CUSTODIAN_OF_RECIPES -> Lucia'},\n",
       " {'output': 'Lucia - LOCATED_IN -> Los Angeles'},\n",
       " {'output': 'Lucia - NAMED_AFTER -> Grandmother'},\n",
       " {'output': 'Lucia - INHERITED_TALENT -> Grandmother'},\n",
       " {'output': 'Lucia - FOUNDED -> Bella Vita'},\n",
       " {'output': 'Lucia - SUPPORTS -> Local Artists'},\n",
       " {'output': 'Lucia - FOCUSED_ON -> Sustainable Cooking Practices'},\n",
       " {'output': 'Lucia - CONDUCTED -> Workshops'},\n",
       " {'output': 'Lucia - COMMITTED_TO -> Sustainability'},\n",
       " {'output': 'Lucia - BROUGHT_TO -> Los Angeles'},\n",
       " {'output': 'Lucia - BROUGHT -> Sicily'},\n",
       " {'output': 'Lucia - CUSTODIAN_OF_RECIPES -> Lucia'},\n",
       " {'output': 'Bella Vita - MANAGED_BY -> Lucia'}]"
      ]
     },
     "execution_count": 49,
     "metadata": {},
     "output_type": "execute_result"
    }
   ],
   "source": [
    "response"
   ]
  },
  {
   "cell_type": "code",
   "execution_count": 51,
   "metadata": {},
   "outputs": [
    {
     "data": {
      "text/plain": [
       "'Nonna Lucia - INFLUENCE -> Amico'"
      ]
     },
     "execution_count": 51,
     "metadata": {},
     "output_type": "execute_result"
    }
   ],
   "source": [
    "response[0][\"output\"]"
   ]
  },
  {
   "cell_type": "code",
   "execution_count": 59,
   "metadata": {},
   "outputs": [],
   "source": [
    "# bu fonksiyon ilgili questiondaki entitileri bulacak. daha sonra bu entitiyler için srt 3lülerini bulacak.\n",
    "def graphRetriever(question:str):\n",
    "    results=\"\"\n",
    "    entities = entityChain.invoke({\"question\":\"Who are Nonna Lucia and Giovanni Caruso?\"}).names\n",
    "    for entity in entities:\n",
    "        response = graph.query(\n",
    "            \"\"\"CALL db.index.fulltext.queryNodes('FTS_Entity_id', $query, {limit:2})\n",
    "            YIELD node,score\n",
    "            CALL {\n",
    "              WITH node\n",
    "              MATCH (node)-[r:!MENTIONS]->(neighbor)\n",
    "              RETURN node.id + ' - ' + type(r) + ' -> ' + neighbor.id AS output\n",
    "              UNION ALL\n",
    "              WITH node\n",
    "              MATCH (node)<-[r:!MENTIONS]-(neighbor)\n",
    "              RETURN neighbor.id + ' - ' + type(r) + ' -> ' +  node.id AS output\n",
    "            }\n",
    "            RETURN output LIMIT 50\n",
    "            \"\"\",\n",
    "            {\"query\": entity},\n",
    "        )\n",
    "\n",
    "        results += \"\\n\".join(r[\"output\"] for r in response)\n",
    "        return results\n",
    "\n",
    "        "
   ]
  },
  {
   "cell_type": "code",
   "execution_count": 61,
   "metadata": {},
   "outputs": [
    {
     "name": "stderr",
     "output_type": "stream",
     "text": [
      "Received notification from DBMS server: {severity: WARNING} {code: Neo.ClientNotification.Statement.FeatureDeprecationWarning} {category: DEPRECATION} {title: This feature is deprecated and will be removed in future versions.} {description: CALL subquery without a variable scope clause is now deprecated. Use CALL (node, node) { ... }} {position: line: 3, column: 13, offset: 111} for query: \"CALL db.index.fulltext.queryNodes('FTS_Entity_id', $query, {limit:2})\\n            YIELD node,score\\n            CALL {\\n              WITH node\\n              MATCH (node)-[r:!MENTIONS]->(neighbor)\\n              RETURN node.id + ' - ' + type(r) + ' -> ' + neighbor.id AS output\\n              UNION ALL\\n              WITH node\\n              MATCH (node)<-[r:!MENTIONS]-(neighbor)\\n              RETURN neighbor.id + ' - ' + type(r) + ' -> ' +  node.id AS output\\n            }\\n            RETURN output LIMIT 50\\n            \"\n"
     ]
    },
    {
     "name": "stdout",
     "output_type": "stream",
     "text": [
      "Nonna Lucia - INFLUENCE -> Amico\n",
      "Nonna Lucia - TAUGHT -> Sicilian Cooking\n",
      "Lucia - SISTER -> Antonio\n",
      "Lucia - GRANDMOTHER -> Amico\n",
      "Lucia - MATRIARCH -> Caruso Family\n",
      "Lucia - CUSTODIAN_OF_RECIPES -> Lucia\n",
      "Lucia - LOCATED_IN -> Los Angeles\n",
      "Lucia - NAMED_AFTER -> Grandmother\n",
      "Lucia - INHERITED_TALENT -> Grandmother\n",
      "Lucia - FOUNDED -> Bella Vita\n",
      "Lucia - SUPPORTS -> Local Artists\n",
      "Lucia - FOCUSED_ON -> Sustainable Cooking Practices\n",
      "Lucia - CONDUCTED -> Workshops\n",
      "Lucia - COMMITTED_TO -> Sustainability\n",
      "Lucia - BROUGHT_TO -> Los Angeles\n",
      "Lucia - BROUGHT -> Sicily\n",
      "Lucia - CUSTODIAN_OF_RECIPES -> Lucia\n",
      "Bella Vita - MANAGED_BY -> Lucia\n"
     ]
    }
   ],
   "source": [
    "print(graphRetriever(question=question))"
   ]
  },
  {
   "cell_type": "code",
   "execution_count": 73,
   "metadata": {},
   "outputs": [],
   "source": [
    "def fullRetriever(question: str):\n",
    "    graphRetrieverResult = graphRetriever(question)\n",
    "    vectorRetrieverDocs = vectorRetriever.get_relevant_documents(question)\n",
    "    vectorRetrieverResult = \"\".join(d.page_content for d in vectorRetrieverDocs)\n",
    "    \n",
    "    return f\"\"\"Graph data:\n",
    "                {graphRetrieverResult}\n",
    "                vector data:\n",
    "                {vectorRetrieverResult}\n",
    "            \"\"\""
   ]
  },
  {
   "cell_type": "code",
   "execution_count": 74,
   "metadata": {},
   "outputs": [
    {
     "name": "stderr",
     "output_type": "stream",
     "text": [
      "Received notification from DBMS server: {severity: WARNING} {code: Neo.ClientNotification.Statement.FeatureDeprecationWarning} {category: DEPRECATION} {title: This feature is deprecated and will be removed in future versions.} {description: CALL subquery without a variable scope clause is now deprecated. Use CALL (node, node) { ... }} {position: line: 3, column: 13, offset: 111} for query: \"CALL db.index.fulltext.queryNodes('FTS_Entity_id', $query, {limit:2})\\n            YIELD node,score\\n            CALL {\\n              WITH node\\n              MATCH (node)-[r:!MENTIONS]->(neighbor)\\n              RETURN node.id + ' - ' + type(r) + ' -> ' + neighbor.id AS output\\n              UNION ALL\\n              WITH node\\n              MATCH (node)<-[r:!MENTIONS]-(neighbor)\\n              RETURN neighbor.id + ' - ' + type(r) + ' -> ' +  node.id AS output\\n            }\\n            RETURN output LIMIT 50\\n            \"\n",
      "Received notification from DBMS server: {severity: WARNING} {code: Neo.ClientNotification.Statement.FeatureDeprecationWarning} {category: DEPRECATION} {title: This feature is deprecated and will be removed in future versions.} {description: CALL subquery without a variable scope clause is now deprecated. Use CALL () { ... }} {position: line: 1, column: 1, offset: 0} for query: \"CALL { CALL db.index.vector.queryNodes($index, $k, $embedding) YIELD node, score WITH collect({node:node, score:score}) AS nodes, max(score) AS max UNWIND nodes AS n RETURN n.node AS node, (n.score / max) AS score UNION CALL db.index.fulltext.queryNodes($keyword_index, $query, {limit: $k}) YIELD node, score WITH collect({node:node, score:score}) AS nodes, max(score) AS max UNWIND nodes AS n RETURN n.node AS node, (n.score / max) AS score } WITH node, max(score) AS score ORDER BY score DESC LIMIT $k RETURN reduce(str='', k IN ['text'] | str + '\\\\n' + k + ': ' + coalesce(node[k], '')) AS text, node {.*, `embedding`: Null, id: Null, `text`: Null} AS metadata, score\"\n"
     ]
    },
    {
     "data": {
      "text/plain": [
       "\"Graph data:\\n                Nonna Lucia - INFLUENCE -> Amico\\nNonna Lucia - TAUGHT -> Sicilian Cooking\\nLucia - SISTER -> Antonio\\nLucia - GRANDMOTHER -> Amico\\nLucia - MATRIARCH -> Caruso Family\\nLucia - CUSTODIAN_OF_RECIPES -> Lucia\\nLucia - LOCATED_IN -> Los Angeles\\nLucia - NAMED_AFTER -> Grandmother\\nLucia - INHERITED_TALENT -> Grandmother\\nLucia - FOUNDED -> Bella Vita\\nLucia - SUPPORTS -> Local Artists\\nLucia - FOCUSED_ON -> Sustainable Cooking Practices\\nLucia - CONDUCTED -> Workshops\\nLucia - COMMITTED_TO -> Sustainability\\nLucia - BROUGHT_TO -> Los Angeles\\nLucia - BROUGHT -> Sicily\\nLucia - CUSTODIAN_OF_RECIPES -> Lucia\\nBella Vita - MANAGED_BY -> Lucia\\n                vector data:\\n                \\ntext: Lucia, Antonio's sister and Amico's grandmother, was the matriarch of the Caruso family. A culinary sage, Nonna Lucia was the custodian of the family's recipes, a role she took very seriously. Her kitchen was a sacred space, where she taught her\\ntext: Nonna Lucia: The Matriarch and Mentor\\ntext: where she taught her grandchildren the art of Sicilian cooking. Under her watchful eye, Amico learned the delicate balance of flavors in a Caponata and the intricate process of making fresh pasta. Nonna Lucia's influence extended beyond the kitchen;\\ntext: Each member of the Caruso family played a role in nurturing the next generation of chefs. Antonio hosted workshops in Rome, sharing his innovative techniques, while Pietro and Sofia offered classes in seafood preparation and baking, respectively.\\n            \""
      ]
     },
     "execution_count": 74,
     "metadata": {},
     "output_type": "execute_result"
    }
   ],
   "source": [
    "fullRetriever(question)"
   ]
  },
  {
   "cell_type": "code",
   "execution_count": 70,
   "metadata": {},
   "outputs": [],
   "source": [
    "template = \"\"\" \n",
    "###\n",
    "CONTEXT\n",
    "###\n",
    "'''\n",
    "{context}\n",
    "'''\n",
    "\n",
    "###\n",
    "RULES:\n",
    "Learn from the CONTEXT and answer the following question.\n",
    "Use natural language and be concise.\n",
    "###\n",
    "\n",
    "QUESTION:\n",
    "{question}\n",
    "\n",
    "\"\"\""
   ]
  },
  {
   "cell_type": "code",
   "execution_count": 71,
   "metadata": {},
   "outputs": [],
   "source": [
    "ragPromt = ChatPromptTemplate.from_template(template)"
   ]
  },
  {
   "cell_type": "code",
   "execution_count": 80,
   "metadata": {},
   "outputs": [],
   "source": [
    "ragChain = (\n",
    "    {\n",
    "        \"context\": fullRetriever,\n",
    "        \"question\": RunnablePassthrough(),\n",
    "    }\n",
    "    |ragPromt\n",
    "    |llm\n",
    "    |StrOutputParser()\n",
    ")"
   ]
  },
  {
   "cell_type": "code",
   "execution_count": 82,
   "metadata": {},
   "outputs": [
    {
     "data": {
      "text/plain": [
       "'Who are Nonna Lucia and Giovanni Caruso?'"
      ]
     },
     "execution_count": 82,
     "metadata": {},
     "output_type": "execute_result"
    }
   ],
   "source": [
    "question"
   ]
  },
  {
   "cell_type": "code",
   "execution_count": 81,
   "metadata": {},
   "outputs": [
    {
     "name": "stderr",
     "output_type": "stream",
     "text": [
      "Received notification from DBMS server: {severity: WARNING} {code: Neo.ClientNotification.Statement.FeatureDeprecationWarning} {category: DEPRECATION} {title: This feature is deprecated and will be removed in future versions.} {description: CALL subquery without a variable scope clause is now deprecated. Use CALL (node, node) { ... }} {position: line: 3, column: 13, offset: 111} for query: \"CALL db.index.fulltext.queryNodes('FTS_Entity_id', $query, {limit:2})\\n            YIELD node,score\\n            CALL {\\n              WITH node\\n              MATCH (node)-[r:!MENTIONS]->(neighbor)\\n              RETURN node.id + ' - ' + type(r) + ' -> ' + neighbor.id AS output\\n              UNION ALL\\n              WITH node\\n              MATCH (node)<-[r:!MENTIONS]-(neighbor)\\n              RETURN neighbor.id + ' - ' + type(r) + ' -> ' +  node.id AS output\\n            }\\n            RETURN output LIMIT 50\\n            \"\n",
      "Received notification from DBMS server: {severity: WARNING} {code: Neo.ClientNotification.Statement.FeatureDeprecationWarning} {category: DEPRECATION} {title: This feature is deprecated and will be removed in future versions.} {description: CALL subquery without a variable scope clause is now deprecated. Use CALL () { ... }} {position: line: 1, column: 1, offset: 0} for query: \"CALL { CALL db.index.vector.queryNodes($index, $k, $embedding) YIELD node, score WITH collect({node:node, score:score}) AS nodes, max(score) AS max UNWIND nodes AS n RETURN n.node AS node, (n.score / max) AS score UNION CALL db.index.fulltext.queryNodes($keyword_index, $query, {limit: $k}) YIELD node, score WITH collect({node:node, score:score}) AS nodes, max(score) AS max UNWIND nodes AS n RETURN n.node AS node, (n.score / max) AS score } WITH node, max(score) AS score ORDER BY score DESC LIMIT $k RETURN reduce(str='', k IN ['text'] | str + '\\\\n' + k + ': ' + coalesce(node[k], '')) AS text, node {.*, `embedding`: Null, id: Null, `text`: Null} AS metadata, score\"\n"
     ]
    },
    {
     "data": {
      "text/plain": [
       "\"Nonna Lucia is the matriarch of the Caruso family and a culinary expert known for her role as the custodian of the family's Sicilian recipes. She taught her grandchildren, including Amico, the art of cooking. Giovanni Caruso is not mentioned in the provided context, so there is no information available about him.\""
      ]
     },
     "execution_count": 81,
     "metadata": {},
     "output_type": "execute_result"
    }
   ],
   "source": [
    "ragChain.invoke(input=question)"
   ]
  },
  {
   "cell_type": "code",
   "execution_count": null,
   "metadata": {},
   "outputs": [],
   "source": []
  }
 ],
 "metadata": {
  "kernelspec": {
   "display_name": "Python 3",
   "language": "python",
   "name": "python3"
  },
  "language_info": {
   "codemirror_mode": {
    "name": "ipython",
    "version": 3
   },
   "file_extension": ".py",
   "mimetype": "text/x-python",
   "name": "python",
   "nbconvert_exporter": "python",
   "pygments_lexer": "ipython3",
   "version": "3.10.6"
  }
 },
 "nbformat": 4,
 "nbformat_minor": 2
}
